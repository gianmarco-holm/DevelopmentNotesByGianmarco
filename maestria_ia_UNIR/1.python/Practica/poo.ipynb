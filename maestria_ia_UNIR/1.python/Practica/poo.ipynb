{
 "cells": [
  {
   "cell_type": "code",
   "execution_count": 9,
   "metadata": {},
   "outputs": [],
   "source": [
    "# Clase padre persona cumpliendo los pilares de la POO y getters y setters\n",
    "class Persona:\n",
    "    \n",
    "    def __init__(self, nombre, edad):\n",
    "        self.__nombre = nombre\n",
    "        self.__edad = edad\n",
    "\n",
    "    def get_nombre(self):\n",
    "        return self.__nombre\n",
    "\n",
    "    def set_nombre(self, nombre):\n",
    "        self.__nombre = nombre\n",
    "\n",
    "    def get_edad(self):\n",
    "        return self.__edad\n",
    "\n",
    "    def set_edad(self, edad):\n",
    "        self.__edad = edad\n",
    "\n",
    "    def mostrar_datos(self):\n",
    "        print(f\"Nombre: {self.__nombre}\")\n",
    "        print(f\"Edad: {self.__edad}\")"
   ]
  },
  {
   "cell_type": "code",
   "execution_count": 10,
   "metadata": {},
   "outputs": [],
   "source": [
    "# Clase hija estudiante cumpliendo los pilares de la POO y getters y setters\n",
    "class Estudiante(Persona):\n",
    "    \n",
    "    def __init__(self, nombre, edad, carrera):\n",
    "        super().__init__(nombre, edad)\n",
    "        self.__carrera = carrera\n",
    "\n",
    "    def get_carrera(self):\n",
    "        return self.__carrera\n",
    "\n",
    "    def set_carrera(self, carrera):\n",
    "        self.__carrera = carrera\n",
    "\n",
    "    def mostrar_datos(self):\n",
    "        super().mostrar_datos()\n",
    "        print(f\"Carrera: {self.__carrera}\")"
   ]
  },
  {
   "cell_type": "code",
   "execution_count": 11,
   "metadata": {},
   "outputs": [],
   "source": [
    "# Clase hija profesor cumpliendo los pilares de la POO y getters y setters\n",
    "class Profesor(Persona):\n",
    "    \n",
    "    def __init__(self, nombre, edad, materia):\n",
    "        super().__init__(nombre, edad)\n",
    "        self.__materia = materia\n",
    "\n",
    "    def get_materia(self):\n",
    "        return self.__materia\n",
    "\n",
    "    def set_materia(self, materia):\n",
    "        self.__materia = materia\n",
    "\n",
    "    def mostrar_datos(self):\n",
    "        super().mostrar_datos()\n",
    "        print(f\"Materia: {self.__materia}\")"
   ]
  },
  {
   "cell_type": "code",
   "execution_count": 12,
   "metadata": {},
   "outputs": [],
   "source": [
    "mario = Profesor(\"Mario\", 35, \"Matemáticas\")"
   ]
  },
  {
   "cell_type": "code",
   "execution_count": 18,
   "metadata": {},
   "outputs": [
    {
     "name": "stdout",
     "output_type": "stream",
     "text": [
      "Nombre: Mario\n",
      "Edad: 35\n",
      "Materia: Matemáticas\n"
     ]
    }
   ],
   "source": [
    "mario.mostrar_datos()"
   ]
  }
 ],
 "metadata": {
  "kernelspec": {
   "display_name": "env",
   "language": "python",
   "name": "python3"
  },
  "language_info": {
   "codemirror_mode": {
    "name": "ipython",
    "version": 3
   },
   "file_extension": ".py",
   "mimetype": "text/x-python",
   "name": "python",
   "nbconvert_exporter": "python",
   "pygments_lexer": "ipython3",
   "version": "3.12.8 (tags/v3.12.8:2dc476b, Dec  3 2024, 19:30:04) [MSC v.1942 64 bit (AMD64)]"
  },
  "orig_nbformat": 4,
  "vscode": {
   "interpreter": {
    "hash": "80da8eccdfe629d2792f94155185f6a767d75a5056c65d68daf6808a4142d96a"
   }
  }
 },
 "nbformat": 4,
 "nbformat_minor": 2
}
