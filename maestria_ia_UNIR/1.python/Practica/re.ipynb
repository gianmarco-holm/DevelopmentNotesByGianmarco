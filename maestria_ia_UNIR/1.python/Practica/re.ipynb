{
 "cells": [
  {
   "cell_type": "code",
   "execution_count": 1,
   "metadata": {},
   "outputs": [],
   "source": [
    "import re"
   ]
  },
  {
   "cell_type": "code",
   "execution_count": 2,
   "metadata": {},
   "outputs": [],
   "source": [
    "texto = \"\"\"\n",
    "¡Bienvenido a la tienda online de 'GianTech'! 🎉 \n",
    "\n",
    "📅 Fecha de apertura: 12/03/2024\n",
    "📞 Contacto: soporte@giantech.com\n",
    "🌐 Web: https://www.giantech.com\n",
    "\n",
    "📦 Productos disponibles:\n",
    "  1. Laptop Gamer - $1,299.99\n",
    "  2. Monitor 4K - $499.50\n",
    "  3. Teclado Mecánico RGB - $129.90\n",
    "  4. Mouse Inalámbrico - $49.99\n",
    "\n",
    "Usuarios registrados:\n",
    "  - Usuario: jdoe_89  | Contraseña: Pass@1234\n",
    "  - Usuario: ana_dev  | Contraseña: Dev#5678\n",
    "\n",
    "🚀 ¡Ofertas especiales hasta el 31/12/2024! No te lo pierdas. 😎\n",
    "\"\"\""
   ]
  },
  {
   "cell_type": "code",
   "execution_count": 4,
   "metadata": {},
   "outputs": [
    {
     "data": {
      "text/plain": [
       "['señ', 'señ']"
      ]
     },
     "execution_count": 4,
     "metadata": {},
     "output_type": "execute_result"
    }
   ],
   "source": [
    "patron = r\"se\\w\"\n",
    "re.findall(patron, texto)"
   ]
  },
  {
   "cell_type": "code",
   "execution_count": 5,
   "metadata": {},
   "outputs": [
    {
     "data": {
      "text/plain": [
       "['seña', 'seña']"
      ]
     },
     "execution_count": 5,
     "metadata": {},
     "output_type": "execute_result"
    }
   ],
   "source": [
    "patron = r\"se\\w+\"\n",
    "re.findall(patron, texto)"
   ]
  },
  {
   "cell_type": "code",
   "execution_count": 10,
   "metadata": {},
   "outputs": [
    {
     "data": {
      "text/plain": [
       "['lado Mecánico']"
      ]
     },
     "execution_count": 10,
     "metadata": {},
     "output_type": "execute_result"
    }
   ],
   "source": [
    "patron = r\"la\\w+\\s\\w+\"\n",
    "re.findall(patron, texto)"
   ]
  },
  {
   "cell_type": "code",
   "execution_count": 11,
   "metadata": {},
   "outputs": [
    {
     "data": {
      "text/plain": [
       "['lado']"
      ]
     },
     "execution_count": 11,
     "metadata": {},
     "output_type": "execute_result"
    }
   ],
   "source": [
    "# Solo obtenemos lo que esta en el parentesis\n",
    "patron = r\"(la\\w+)\\s\\w+\"\n",
    "re.findall(patron, texto)"
   ]
  },
  {
   "cell_type": "code",
   "execution_count": 16,
   "metadata": {},
   "outputs": [
    {
     "data": {
      "text/plain": [
       "['$1', '$499', '$129', '$49']"
      ]
     },
     "execution_count": 16,
     "metadata": {},
     "output_type": "execute_result"
    }
   ],
   "source": [
    "patron = r\"\\$\\d+\"\n",
    "re.findall(patron, texto)"
   ]
  },
  {
   "cell_type": "code",
   "execution_count": 17,
   "metadata": {},
   "outputs": [
    {
     "data": {
      "text/plain": [
       "['12',\n",
       " '03',\n",
       " '2024',\n",
       " '1',\n",
       " '$1',\n",
       " '299',\n",
       " '99',\n",
       " '2',\n",
       " '4',\n",
       " '$499',\n",
       " '50',\n",
       " '3',\n",
       " '$129',\n",
       " '90',\n",
       " '4',\n",
       " '$49',\n",
       " '99',\n",
       " '89',\n",
       " '1234',\n",
       " '5678',\n",
       " '31',\n",
       " '12',\n",
       " '2024']"
      ]
     },
     "execution_count": 17,
     "metadata": {},
     "output_type": "execute_result"
    }
   ],
   "source": [
    "patron = r\"\\$?\\d+\"\n",
    "re.findall(patron, texto)"
   ]
  },
  {
   "cell_type": "code",
   "execution_count": null,
   "metadata": {},
   "outputs": [],
   "source": []
  }
 ],
 "metadata": {
  "kernelspec": {
   "display_name": "env",
   "language": "python",
   "name": "python3"
  },
  "language_info": {
   "codemirror_mode": {
    "name": "ipython",
    "version": 3
   },
   "file_extension": ".py",
   "mimetype": "text/x-python",
   "name": "python",
   "nbconvert_exporter": "python",
   "pygments_lexer": "ipython3",
   "version": "3.12.9"
  },
  "orig_nbformat": 4,
  "vscode": {
   "interpreter": {
    "hash": "80da8eccdfe629d2792f94155185f6a767d75a5056c65d68daf6808a4142d96a"
   }
  }
 },
 "nbformat": 4,
 "nbformat_minor": 2
}
