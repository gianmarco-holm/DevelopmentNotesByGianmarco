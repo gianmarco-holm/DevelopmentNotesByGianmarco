{
 "cells": [
  {
   "cell_type": "markdown",
   "metadata": {},
   "source": [
    "En la siguiente celda, completa los siguientes ejercicios:\n",
    "\n",
    "## Ejercicio 1\n",
    "\n",
    "Escribe una clase llamada Numero. Esta clase debe tener una constructora que reciba un número y almacene ese número en 2 atributos: romano que almacenará el número en el formato de número romanos como una cadena de caracteres y normal que guardará el número que nos han dado en la constructora.\n",
    "\n",
    "## Ejercicio 2\n",
    "Crea dos nuevos métodos en la clase Numero. El primer método, llamado imprime() imprime un mensaje mostrando el valor de ambos atributos; el segundo atributo, suma_romano() tendrá como parámetros una cadena de caracteres que representará otro número romano y que sumaremos a los atributos que ya teníamos.\n",
    "\n",
    "## Ejercicio 3\n",
    "\n",
    "Define una función dentro de la clase Numero que a partir de una cadena de caracteres, devuelve True si esa cadena de caracteres corresponde con un número romano y falso en caso contrario. Después, modifica el método para que lance un error en el caso de que el valor que nos pasan por parámetro no se corresponde con el patrón de un número romano"
   ]
  },
  {
   "cell_type": "code",
   "execution_count": 14,
   "metadata": {},
   "outputs": [],
   "source": [
    "import re\n",
    "\n",
    "class Numero:\n",
    "\n",
    "    def __init__(self, num):\n",
    "        self.normal = num\n",
    "        self.romano = self.normal_a_romano(num)\n",
    "\n",
    "    def normal_a_romano(self, num):\n",
    "        num = int(num)\n",
    "        val = [\n",
    "            1000, 900, 500, 400,\n",
    "            100, 90, 50, 40,\n",
    "            10, 9, 5, 4,\n",
    "            1\n",
    "        ]\n",
    "        syb = [\n",
    "            \"M\", \"CM\", \"D\", \"CD\",\n",
    "            \"C\", \"XC\", \"L\", \"XL\",\n",
    "            \"X\", \"IX\", \"V\", \"IV\",\n",
    "            \"I\"\n",
    "        ]\n",
    "        roman_num = ''\n",
    "        i = 0\n",
    "        while num > 0:\n",
    "            for _ in range(num // val[i]):\n",
    "                roman_num += syb[i]\n",
    "                num -= val[i]\n",
    "            i += 1\n",
    "        return roman_num\n",
    "\n",
    "    def imprime(self):\n",
    "        print(f'{self.normal} {self.romano}')\n",
    "    \n",
    "    def romano_a_normal(self, num):\n",
    "        roman_dict = {\n",
    "            'I': 1, 'V': 5, 'X': 10, 'L': 50,\n",
    "            'C': 100, 'D': 500, 'M': 1000\n",
    "        }\n",
    "        normal = 0\n",
    "        prev_value = 0\n",
    "        for char in reversed(num):\n",
    "            value = roman_dict[char]\n",
    "            if value < prev_value:\n",
    "                normal -= value\n",
    "            else:\n",
    "                normal += value\n",
    "            prev_value = value\n",
    "        return normal\n",
    "    \n",
    "    def suma_romano(self, num):\n",
    "        self.normal += self.romano_a_normal(num)\n",
    "        self.romano = self.normal_a_romano(self.normal)\n",
    "\n",
    "    def is_romano(self, numero_romano):\n",
    "        if not isinstance(numero_romano, str):  # Convertir a string si es necesario\n",
    "            return False  \n",
    "        exp_reg_romano = r'^M{0,3}(CM|CD|D?C{0,3})(XC|XL|L?X{0,3})(IX|IV|V?I{0,3})$'\n",
    "        return bool(re.fullmatch(exp_reg_romano, numero_romano))\n"
   ]
  },
  {
   "cell_type": "markdown",
   "metadata": {},
   "source": [
    "En la siguiente celda, completa los siguientes ejercicios:\n",
    "\n",
    "## Ejercicio 4\n",
    "\n",
    "Implementa una clase MejorNumero. Esta clase heredará las propiedades de Numero e incluirá dos métodos nuevos para restar y multiplicar los atributos recibiendo por parámetro otro número romano.\n",
    "\n",
    "## Ejercicio 5\n",
    "\n",
    "En la clase MejorNumero, crea un nuevo método que reciba una lista con 3 números romanos. A continuación, iterando sobre los elementos de la lista llamará a la función suma_romano(). Los posibles errores se tendrán que gestionar con excepciones para mostrar un mensaje y seguir ejecutando el siguiente número."
   ]
  },
  {
   "cell_type": "code",
   "execution_count": 15,
   "metadata": {},
   "outputs": [],
   "source": [
    "class MejorNumero(Numero):\n",
    "    def __init__(self, num):\n",
    "        super().__init__(num)\n",
    "    \n",
    "    def resta(self, num):\n",
    "        if not self.is_romano(num):\n",
    "            raise ValueError(f\"'{num}' no es un número romano válido.\")\n",
    "        self.normal -= self.romano_a_normal(num)\n",
    "        self.romano = self.normal_a_romano(self.normal)\n",
    "    \n",
    "    def multiplica(self, num):\n",
    "        if not self.is_romano(num):\n",
    "            raise ValueError(f\"'{num}' no es un número romano válido.\")\n",
    "        self.normal *= self.romano_a_normal(num)\n",
    "        self.romano = self.normal_a_romano(self.normal)\n",
    "\n",
    "    def iterar(self, lista):\n",
    "        for num in lista:\n",
    "            if not self.is_romano(num):\n",
    "                print(f\"Ha fallado el número {num}\")\n",
    "                continue\n",
    "            try:\n",
    "                self.suma_romano(num)\n",
    "            except ValueError as e:\n",
    "                print(e)\n",
    "                continue"
   ]
  }
 ],
 "metadata": {
  "kernelspec": {
   "display_name": "env",
   "language": "python",
   "name": "python3"
  },
  "language_info": {
   "codemirror_mode": {
    "name": "ipython",
    "version": 3
   },
   "file_extension": ".py",
   "mimetype": "text/x-python",
   "name": "python",
   "nbconvert_exporter": "python",
   "pygments_lexer": "ipython3",
   "version": "3.12.9"
  },
  "vscode": {
   "interpreter": {
    "hash": "80da8eccdfe629d2792f94155185f6a767d75a5056c65d68daf6808a4142d96a"
   }
  }
 },
 "nbformat": 4,
 "nbformat_minor": 2
}
