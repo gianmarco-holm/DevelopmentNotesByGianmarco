{
 "cells": [
  {
   "cell_type": "markdown",
   "metadata": {},
   "source": [
    "## Ejercicio 1\n",
    "\n",
    "Completa la siguiente función para que dado un número de documento nacional de identidad (DNI), se devuelva una letra. Esta letra se obtiene calculando el resto del DNI entre 23 y a partir de ese valor asignarle una letra de la siguiente tabla:\n",
    "\n",
    "![Tabla letras de control DNI](img/letras.png)\n",
    "\n",
    "El valor DNI será un número entero y la letra debe ser una cadena de carateres que contendrá una única letra en mayúsculas."
   ]
  },
  {
   "cell_type": "code",
   "execution_count": 1,
   "metadata": {},
   "outputs": [],
   "source": [
    "def ejercicio_1(dni):\n",
    "    letra = dni % 23\n",
    "    if letra == 0:\n",
    "        letra = 'T'\n",
    "    elif letra == 1:\n",
    "        letra = 'R'\n",
    "    elif letra == 2:\n",
    "        letra = 'W'\n",
    "    elif letra == 3:\n",
    "        letra = 'A'\n",
    "    elif letra == 4:\n",
    "        letra = 'G'\n",
    "    elif letra == 5:\n",
    "        letra = 'M'\n",
    "    elif letra == 6:\n",
    "        letra = 'Y'\n",
    "    elif letra == 7:\n",
    "        letra = 'F'\n",
    "    elif letra == 8:\n",
    "        letra = 'P'\n",
    "    elif letra == 9:\n",
    "        letra = 'D'\n",
    "    elif letra == 10:\n",
    "        letra = 'X'\n",
    "    elif letra == 11:\n",
    "        letra = 'B'\n",
    "    elif letra == 12:\n",
    "        letra = 'N'\n",
    "    elif letra == 13:\n",
    "        letra = 'J'\n",
    "    elif letra == 14:\n",
    "        letra = 'Z'\n",
    "    elif letra == 15:\n",
    "        letra = 'S'\n",
    "    elif letra == 16:\n",
    "        letra = 'Q'\n",
    "    elif letra == 17:\n",
    "        letra = 'V'\n",
    "    elif letra == 18:\n",
    "        letra = 'H'\n",
    "    elif letra == 19:\n",
    "        letra = 'L'\n",
    "    elif letra == 20:\n",
    "        letra = 'C'\n",
    "    elif letra == 21:\n",
    "        letra = 'K'\n",
    "    elif letra == 22:\n",
    "        letra = 'E'\n",
    "    return letra"
   ]
  },
  {
   "cell_type": "markdown",
   "metadata": {},
   "source": [
    "## Ejercicio 2\n",
    "\n",
    "Completa la siguiente función para que dado el precio de un producto, se calcule y se devuelva el precio total que debe pagar el cliente, es decir, incluyenfo el IVA (21% sobre el precio del producto). El precio total deberá ser únicamente el valor del precio, es decir, no debe contener el símbolo de la moneda. Redondee la salida al segundo decimal en caso necesario.\n"
   ]
  },
  {
   "cell_type": "code",
   "execution_count": 2,
   "metadata": {},
   "outputs": [],
   "source": [
    "def ejercicio_2(precio):\n",
    "    precio_total = precio * 1.21\n",
    "    precio_total = round(precio_total, 2)\n",
    "    return precio_total"
   ]
  },
  {
   "cell_type": "markdown",
   "metadata": {},
   "source": [
    "## Ejercicio 3\n",
    "\n",
    "Completa la siguiente función para que dado el diámetro de una circunferencia, se calcule el área del círculo que contiene dicha circunferencia. Como valor de PI se usará $3.1415$."
   ]
  },
  {
   "cell_type": "code",
   "execution_count": 3,
   "metadata": {},
   "outputs": [],
   "source": [
    "def ejercicio_3(diametro):\n",
    "    area = 3.1415 * (diametro/2)**2\n",
    "    return area"
   ]
  },
  {
   "cell_type": "markdown",
   "metadata": {},
   "source": [
    "## Ejercicio 4\n",
    "\n",
    "Completar la función para que dado dos números entéros <n> y <m> dos números enteros, se calcula el cociente y el resto de hacer la división entera entre n y m."
   ]
  },
  {
   "cell_type": "code",
   "execution_count": 4,
   "metadata": {},
   "outputs": [],
   "source": [
    "def ejercicio_4(n, m):\n",
    "    cociente = n // m\n",
    "    resto = n % m\n",
    "    return cociente, resto"
   ]
  },
  {
   "cell_type": "markdown",
   "metadata": {},
   "source": [
    "## Ejercicio 5\n",
    "\n",
    "Completar la función para que dado el número de unidades que ha comprado un usuario de 2 productos diferentes, devolver el peso total del paquete para enviar su compra por mensajería. El peso de cada unidad del producto1 es de 147 unidades y el peso de cada unidad del producto2 es de 2400 unidades. La función debe devolver únicamente el peso total."
   ]
  },
  {
   "cell_type": "code",
   "execution_count": 5,
   "metadata": {},
   "outputs": [],
   "source": [
    "def ejercicio_5(producto1, producto2):\n",
    "    peso_total = producto1*147 + producto2*2400\n",
    "    return peso_total"
   ]
  }
 ],
 "metadata": {
  "kernelspec": {
   "display_name": "env",
   "language": "python",
   "name": "python3"
  },
  "language_info": {
   "codemirror_mode": {
    "name": "ipython",
    "version": 3
   },
   "file_extension": ".py",
   "mimetype": "text/x-python",
   "name": "python",
   "nbconvert_exporter": "python",
   "pygments_lexer": "ipython3",
   "version": "3.12.9 (tags/v3.12.9:fdb8142, Feb  4 2025, 15:27:58) [MSC v.1942 64 bit (AMD64)]"
  },
  "vscode": {
   "interpreter": {
    "hash": "80da8eccdfe629d2792f94155185f6a767d75a5056c65d68daf6808a4142d96a"
   }
  }
 },
 "nbformat": 4,
 "nbformat_minor": 4
}
