{
  "cells": [
    {
      "cell_type": "markdown",
      "metadata": {
        "id": "OZPZKqwCPRK_"
      },
      "source": [
        "# Tema 4\n",
        "\n",
        "## Ejemplo de solución automática al problema de clase\n",
        "\n"
      ]
    },
    {
      "cell_type": "markdown",
      "metadata": {
        "id": "Hjc_-3loyZQY"
      },
      "source": [
        "\n",
        "Usamos para esta solución el mismo código que vemos en la actividad 1"
      ]
    },
    {
      "cell_type": "code",
      "execution_count": 1,
      "metadata": {
        "colab": {
          "base_uri": "https://localhost:8080/"
        },
        "id": "QfDm3xOMWSWk",
        "outputId": "8abc72e6-7be9-4657-9350-49bb12e4d880"
      },
      "outputs": [
        {
          "output_type": "stream",
          "name": "stdout",
          "text": [
            "Collecting simpleai\n",
            "  Downloading simpleai-0.8.3.tar.gz (94 kB)\n",
            "\u001b[?25l     \u001b[90m━━━━━━━━━━━━━━━━━━━━━━━━━━━━━━━━━━━━━━━━\u001b[0m \u001b[32m0.0/94.4 kB\u001b[0m \u001b[31m?\u001b[0m eta \u001b[36m-:--:--\u001b[0m\r\u001b[2K     \u001b[91m━━━━━━━━━━━━━━━━━━━━━━━━━━━━━━━━━━━━━━━\u001b[0m\u001b[90m╺\u001b[0m \u001b[32m92.2/94.4 kB\u001b[0m \u001b[31m5.2 MB/s\u001b[0m eta \u001b[36m0:00:01\u001b[0m\r\u001b[2K     \u001b[90m━━━━━━━━━━━━━━━━━━━━━━━━━━━━━━━━━━━━━━━━\u001b[0m \u001b[32m94.4/94.4 kB\u001b[0m \u001b[31m2.2 MB/s\u001b[0m eta \u001b[36m0:00:00\u001b[0m\n",
            "\u001b[?25h  Preparing metadata (setup.py) ... \u001b[?25l\u001b[?25hdone\n",
            "Requirement already satisfied: flask in /usr/local/lib/python3.11/dist-packages (3.1.0)\n",
            "Requirement already satisfied: pydot in /usr/local/lib/python3.11/dist-packages (3.0.4)\n",
            "Requirement already satisfied: graphviz in /usr/local/lib/python3.11/dist-packages (0.20.3)\n",
            "Requirement already satisfied: Werkzeug>=3.1 in /usr/local/lib/python3.11/dist-packages (from flask) (3.1.3)\n",
            "Requirement already satisfied: Jinja2>=3.1.2 in /usr/local/lib/python3.11/dist-packages (from flask) (3.1.6)\n",
            "Requirement already satisfied: itsdangerous>=2.2 in /usr/local/lib/python3.11/dist-packages (from flask) (2.2.0)\n",
            "Requirement already satisfied: click>=8.1.3 in /usr/local/lib/python3.11/dist-packages (from flask) (8.1.8)\n",
            "Requirement already satisfied: blinker>=1.9 in /usr/local/lib/python3.11/dist-packages (from flask) (1.9.0)\n",
            "Requirement already satisfied: pyparsing>=3.0.9 in /usr/local/lib/python3.11/dist-packages (from pydot) (3.2.3)\n",
            "Requirement already satisfied: MarkupSafe>=2.0 in /usr/local/lib/python3.11/dist-packages (from Jinja2>=3.1.2->flask) (3.0.2)\n",
            "Building wheels for collected packages: simpleai\n",
            "  Building wheel for simpleai (setup.py) ... \u001b[?25l\u001b[?25hdone\n",
            "  Created wheel for simpleai: filename=simpleai-0.8.3-py3-none-any.whl size=100982 sha256=38d321625924d73fdbd5f802a13ec13e514a747900c1c856ab0240a4517c6d1b\n",
            "  Stored in directory: /root/.cache/pip/wheels/ec/02/a7/f0077617a5f73eb1c52e45f12a9da3f0bafff3902bcd91766f\n",
            "Successfully built simpleai\n",
            "Installing collected packages: simpleai\n",
            "Successfully installed simpleai-0.8.3\n"
          ]
        }
      ],
      "source": [
        "!pip install simpleai flask pydot graphviz"
      ]
    },
    {
      "cell_type": "markdown",
      "source": [
        "Vamos a codificar un problema de búsqueda directamente con el grafo del problema. Para ello creamos un objeto json que podríamos salvar o recuperar de un fichero aparte.\n",
        "\n",
        "```\n",
        "{\n",
        "  \"origen1\": { \"destino1\": coste1 , \"destino2\": coste2 , ... },\n",
        "  \"origen2\": ...,\n",
        "  ...\n",
        "}\n",
        "```"
      ],
      "metadata": {
        "id": "yVlU3U1oZ2xH"
      }
    },
    {
      "cell_type": "code",
      "execution_count": 2,
      "metadata": {
        "id": "r1YQp3-4WP4N"
      },
      "outputs": [],
      "source": [
        "#!/usr/bin/env python\n",
        "# coding: utf-8\n",
        "\n",
        "# 2024 Modified by: Alejandro Cervantes\n",
        "# Remember installing pyplot and flask if you want to use WebViewer\n",
        "\n",
        "# NOTA: WebViewer sólo funcionará si ejecutáis en modo local\n",
        "\n",
        "from __future__ import print_function\n",
        "\n",
        "import math, json\n",
        "from simpleai.search.viewers import BaseViewer,ConsoleViewer,WebViewer\n",
        "from simpleai.search import SearchProblem, astar, breadth_first, depth_first, uniform_cost\n",
        "\n",
        "'''\n",
        "Esta clase espera un grafo expresado en JSON de la siguiente forma\n",
        "\n",
        "{\n",
        "  \"origen1\": { \"destino1\": coste1 , \"destino2\": coste2 , ... },\n",
        "  \"origen2\": ...,\n",
        "  ...\n",
        "}\n",
        "\n",
        "Esto lo guardamos como datos del problema para luego extraer de ahí toda la información\n",
        "\n",
        "'''\n",
        "class StaticGraphSearch(SearchProblem):\n",
        "\n",
        "    def __init__(self, graph, initial, goals, reverse_order=False):\n",
        "        self.graph = json.loads(graph) # Transforms to python object\n",
        "        self.goals = goals\n",
        "        self.initial = initial\n",
        "        self.reverse_order = reverse_order\n",
        "        self.node_graph = self.get_node_graph()\n",
        "        super(StaticGraphSearch, self).__init__(initial_state=self.initial) # Required by simple-ai\n",
        "\n",
        "    # Funciones de utilidad para manejo del grafo del problema\n",
        "    def graph_successors(self,node):\n",
        "        list_of_successors = list(k for k in self.graph[node].keys())\n",
        "        if self.reverse_order:\n",
        "          list_of_successors.reverse()\n",
        "\n",
        "        return list_of_successors\n",
        "\n",
        "    def get_node_graph(self):\n",
        "        return { k:self.graph_successors(k) for k in self.graph.keys() }\n",
        "\n",
        "    '''\n",
        "       FUNCIONES NECESARIAS PARA LA BÚSQUEDA\n",
        "\n",
        "       1. Como acción guardaremos siempre la tupla (origen, destino), así se puede mostrar luego el camino\n",
        "       2. Como resultado de una acción será el destino (accederemos al segundo campo)\n",
        "       3. Como comprobación de final miraremos si el estado está en la lista de destinos que se pasa como parámetro\n",
        "       4. El coste de una transición está también en el grafo\n",
        "\n",
        "    '''\n",
        "    def actions(self, state):\n",
        "        actions = []\n",
        "        for destiny in list(self.node_graph[state]):\n",
        "          actions.append((state,destiny))\n",
        "        return actions\n",
        "\n",
        "    def result(self, state, action):\n",
        "      if state == action[0]:\n",
        "        return action[1]\n",
        "      else:\n",
        "        raise Exception(\"result: Invalid pair state, action: state: {} action: {}\".format(state,action))\n",
        "\n",
        "    def is_goal(self, state):\n",
        "        return state in self.goals\n",
        "\n",
        "    def cost(self, state, action, state2):\n",
        "      if state == action[0] and state2 == action[1]:\n",
        "        return self.graph[state][action[1]]\n",
        "      else:\n",
        "        raise Exception(\"cost: Invalid state, action, state2: state: {} action: {} state2: {}\".format(state,action,state2))\n",
        "\n",
        "    # Tema 5\n",
        "    def heuristic(self,state):\n",
        "      return 0\n",
        "\n"
      ]
    },
    {
      "cell_type": "code",
      "source": [
        "def searchInfo (problem,result,use_viewer):\n",
        "    def getTotalCost (problem,result):\n",
        "        originState = problem.initial_state\n",
        "        totalCost = 0\n",
        "        for action,endingState in result.path():\n",
        "            if action is not None:\n",
        "                totalCost += problem.cost(originState,action,endingState)\n",
        "                originState = endingState\n",
        "        return totalCost\n",
        "\n",
        "\n",
        "    res = \"Total length of solution in nodes: {0}\\n\".format(len(result.path()))\n",
        "    res += \"Total length of solution in actions: {0}\\n\".format(len(result.path())-1)\n",
        "    res += \"Total cost of solution: {0}\\n\".format(getTotalCost(problem,result))\n",
        "\n",
        "    if use_viewer:\n",
        "        stats = [{'name': stat.replace('_', ' '), 'value': value}\n",
        "                         for stat, value in list(use_viewer.stats.items())]\n",
        "\n",
        "        for s in stats:\n",
        "            res+= '{0}: {1}\\n'.format(s['name'],s['value'])\n",
        "    return res\n",
        "\n",
        "def resultado_experimento(problem,result,used_viewer):\n",
        "    path = [x[1] for x in result.path()] # x[0] contiene la acción, x[1] contiene el destino\n",
        "    print ('La solución encontrada es: ', path)\n",
        "    print ('Información sobre la búsqueda: ')\n",
        "    info=searchInfo(problem,result,used_viewer)\n",
        "    print(info)"
      ],
      "metadata": {
        "id": "X_BuhmpAdTwu"
      },
      "execution_count": 3,
      "outputs": []
    },
    {
      "cell_type": "code",
      "source": [
        "import matplotlib.pyplot as plt\n",
        "import networkx as nx\n",
        "\n",
        "def plot_graph(self,file=None,title='Grafo del problema',xoffset=0.075,yoffset=0.075):\n",
        "        # Define the graph based on your problem_and_costs_graph\n",
        "        graph_data = self.graph\n",
        "        node_h = None\n",
        "\n",
        "        # Create a NetworkX graph\n",
        "        graph = nx.DiGraph()\n",
        "\n",
        "        # Add edges and their weights to the graph\n",
        "        for start_node, edges in graph_data.items():\n",
        "            for end_node, weight in edges.items():\n",
        "                graph.add_edge(start_node, end_node, weight=weight)\n",
        "\n",
        "        # Visualize the graph\n",
        "        pos = nx.planar_layout(graph)  # You can use other layouts like shell_layout, etc.\n",
        "        # pos = nx.shell_layout(graph)\n",
        "        # pos = nx.kamada_kawai_layout(graph)\n",
        "\n",
        "        nx.draw(graph, pos, with_labels=True, node_color='lightblue', node_size=1000, font_size=12, font_weight='bold', edge_color='gray')\n",
        "        edge_labels = nx.get_edge_attributes(graph, 'weight')\n",
        "        nx.draw_networkx_edge_labels(graph, pos, edge_labels=edge_labels)\n",
        "\n",
        "        nx.draw_networkx_nodes(graph, pos, nodelist=[self.initial], node_color='red', node_size=1000)\n",
        "        nx.draw_networkx_nodes(graph, pos, nodelist=self.goals, node_color='lightgreen', node_size=1000)\n",
        "\n",
        "        if node_h is not None:\n",
        "            label_pos = { p[0] : np.array([p[1][0]+xoffset,p[1][1]+yoffset]) for p in pos.items() }\n",
        "            label_text = { p[0] : f'h={node_h[p[0]]}' for p in pos.items() }\n",
        "            nx.draw_networkx_labels(graph, pos=label_pos, labels=label_text, font_size=12, font_weight='bold')\n",
        "\n",
        "        plt.title(title)\n",
        "\n",
        "        if file is None:\n",
        "            plt.show()\n",
        "        else:\n",
        "            plt.savefig(file)\n",
        "            plt.close()\n",
        "        return pos"
      ],
      "metadata": {
        "id": "0RSStVUXO7w_"
      },
      "execution_count": 11,
      "outputs": []
    },
    {
      "cell_type": "markdown",
      "source": [
        "# Ejemplos para la clase\n",
        "\n",
        "Primer ejemplo, básico con 4 nodos"
      ],
      "metadata": {
        "id": "f-tylFAw-0-k"
      }
    },
    {
      "cell_type": "code",
      "source": [
        "problem_and_costs_graph='''{\n",
        "  \"a\": { \"b\": 1 , \"c\": 1 , \"d\": 4 },\n",
        "  \"b\": { \"d\": 1 },\n",
        "  \"c\": { \"d\": 1 },\n",
        "  \"d\": { }\n",
        "}'''\n",
        "\n",
        "initial='a'\n",
        "goals=('d')"
      ],
      "metadata": {
        "id": "_6uADYVGa4ZY"
      },
      "execution_count": 21,
      "outputs": []
    },
    {
      "cell_type": "markdown",
      "source": [
        "Código para realizar búsqueda en amplitud"
      ],
      "metadata": {
        "id": "AFx41FgP-7US"
      }
    },
    {
      "cell_type": "code",
      "source": [
        "problem = StaticGraphSearch(problem_and_costs_graph,initial,goals)\n",
        "used_viewer=BaseViewer()\n"
      ],
      "metadata": {
        "id": "LkdeInlJamLB"
      },
      "execution_count": 26,
      "outputs": []
    },
    {
      "cell_type": "code",
      "source": [
        "_ = plot_graph(problem)"
      ],
      "metadata": {
        "colab": {
          "base_uri": "https://localhost:8080/",
          "height": 539
        },
        "id": "FTvGxBKCPGWt",
        "outputId": "26bcda94-788c-436d-cd1a-c1cbae3260fe"
      },
      "execution_count": 27,
      "outputs": [
        {
          "output_type": "display_data",
          "data": {
            "text/plain": [
              "<Figure size 640x480 with 1 Axes>"
            ],
            "image/png": "[encoded data removed]"
          },
          "metadata": {}
        }
      ]
    },
    {
      "cell_type": "code",
      "source": [
        "# Probad también ConsoleViewer para depurar\n",
        "# No podréis usar WebViewer en Collab para ver los árboles\n",
        "\n",
        "result = breadth_first(problem, graph_search=True,viewer=used_viewer)\n",
        "resultado_experimento(problem,result,used_viewer)"
      ],
      "metadata": {
        "colab": {
          "base_uri": "https://localhost:8080/"
        },
        "id": "cINoyvlbIdKH",
        "outputId": "896c1841-07d1-4504-9216-bfa298359c12"
      },
      "execution_count": 28,
      "outputs": [
        {
          "output_type": "stream",
          "name": "stdout",
          "text": [
            "La solución encontrada es:  ['a', 'd']\n",
            "Información sobre la búsqueda: \n",
            "Total length of solution in nodes: 2\n",
            "Total length of solution in actions: 1\n",
            "Total cost of solution: 4\n",
            "max fringe size: 3\n",
            "visited nodes: 4\n",
            "iterations: 4\n",
            "\n"
          ]
        }
      ]
    },
    {
      "cell_type": "code",
      "source": [
        "used_viewer=ConsoleViewer()\n",
        "result = breadth_first(problem, graph_search=True,viewer=used_viewer)\n",
        "resultado_experimento(problem,result,used_viewer)"
      ],
      "metadata": {
        "colab": {
          "base_uri": "https://localhost:8080/"
        },
        "id": "SOIC4JNCIoDr",
        "outputId": "6dbbf5b9-f392-4568-9077-05445678ab73"
      },
      "execution_count": 29,
      "outputs": [
        {
          "output_type": "stream",
          "name": "stdout",
          "text": [
            "After each step, a prompt will be shown.\n",
            "On the prompt, you can just press Enter to continue to the next step.\n",
            "But you can also have this commands:\n",
            "(write the command you want to use and then press Enter)\n",
            "* h: get help.\n",
            "* g PATH_TO_PNG_IMAGE: create png with graph of the current state.\n",
            "* e: run non-interactively to the end of the algorithm.\n",
            "* s: show statistics of the execution (max fringe size, visited nodes).\n",
            "* q: quit program.\n",
            "EVENT: started\n",
            "Algorithm just started.\n",
            "> \n",
            "EVENT: new_iteration\n",
            "New iteration with 1 elements in the fringe:\n",
            "[Node <a>]\n",
            "> \n",
            "EVENT: chosen_node\n",
            "Chosen node: Node <a>\n",
            "Not goal\n",
            "> \n",
            "EVENT: expanded\n",
            "Expanded [Node <a>]\n",
            "Successors: [[Node <b>, Node <c>, Node <d>]]\n",
            "> \n",
            "EVENT: new_iteration\n",
            "New iteration with 3 elements in the fringe:\n",
            "[Node <b>, Node <c>, Node <d>]\n",
            "> \n",
            "EVENT: chosen_node\n",
            "Chosen node: Node <b>\n",
            "Not goal\n",
            "> \n",
            "EVENT: expanded\n",
            "Expanded [Node <b>]\n",
            "Successors: [[Node <d>]]\n",
            "> \n",
            "EVENT: new_iteration\n",
            "New iteration with 2 elements in the fringe:\n",
            "[Node <c>, Node <d>]\n",
            "> \n",
            "EVENT: chosen_node\n",
            "Chosen node: Node <c>\n",
            "Not goal\n",
            "> \n",
            "EVENT: expanded\n",
            "Expanded [Node <c>]\n",
            "Successors: [[Node <d>]]\n",
            "> \n",
            "EVENT: new_iteration\n",
            "New iteration with 1 elements in the fringe:\n",
            "[Node <d>]\n",
            "> \n",
            "EVENT: chosen_node\n",
            "Chosen node: Node <d>\n",
            "Is goal!\n",
            "> \n",
            "EVENT: finished\n",
            "Finished algorithm returning Node <d>.\n",
            "Solution type: goal found\n",
            "Path from initial to goal: [(None, 'a'), (('a', 'd'), 'd')]\n",
            "> \n",
            "La solución encontrada es:  ['a', 'd']\n",
            "Información sobre la búsqueda: \n",
            "Total length of solution in nodes: 2\n",
            "Total length of solution in actions: 1\n",
            "Total cost of solution: 4\n",
            "max fringe size: 3\n",
            "visited nodes: 4\n",
            "iterations: 4\n",
            "\n"
          ]
        }
      ]
    },
    {
      "cell_type": "markdown",
      "source": [
        "Problema de ejemplo para la sesión"
      ],
      "metadata": {
        "id": "toeg7xrE-_JZ"
      }
    },
    {
      "cell_type": "code",
      "source": [
        "problem_and_costs_graph='''{\n",
        "  \"s\": { \"b\": 1 , \"c\": 4 },\n",
        "  \"a\": { \"c\": 1 },\n",
        "  \"b\": { \"a\": 1 , \"e\" : 7 },\n",
        "  \"c\": { \"b\": 2 , \"d\": 5, \"g1\": 21 },\n",
        "  \"d\": { \"f\": 6, \"g2\": 11 },\n",
        "  \"e\": { \"d\": 3, \"f\": 10 },\n",
        "  \"f\": { },\n",
        "  \"g1\": { },\n",
        "  \"g2\": { }\n",
        "  }'''\n",
        "\n",
        "initial='s'\n",
        "goals=('g1','g2')\n"
      ],
      "metadata": {
        "id": "vfjHhDByr8ay"
      },
      "execution_count": 14,
      "outputs": []
    },
    {
      "cell_type": "code",
      "source": [
        "problem = StaticGraphSearch(problem_and_costs_graph,initial,goals)\n",
        "# plot_graph(problem.graph,title='Grafo del problema de clase')"
      ],
      "metadata": {
        "id": "mh1H1KPGPge9"
      },
      "execution_count": 15,
      "outputs": []
    },
    {
      "cell_type": "code",
      "source": [
        "_= plot_graph(problem)"
      ],
      "metadata": {
        "colab": {
          "base_uri": "https://localhost:8080/",
          "height": 539
        },
        "id": "W46HUgQHQdhC",
        "outputId": "337d4884-d444-438f-a122-e4fc88d7f0d3"
      },
      "execution_count": 16,
      "outputs": [
        {
          "output_type": "display_data",
          "data": {
            "text/plain": [
              "<Figure size 640x480 with 1 Axes>"
            ],
            "image/png": "[encoded data removed]"
          },
          "metadata": {}
        }
      ]
    },
    {
      "cell_type": "code",
      "source": [
        "problem = StaticGraphSearch(problem_and_costs_graph,initial,goals)\n",
        "used_viewer=BaseViewer()\n",
        "result = breadth_first(problem, graph_search=True,viewer=used_viewer)\n",
        "resultado_experimento(problem,result,used_viewer)"
      ],
      "metadata": {
        "colab": {
          "base_uri": "https://localhost:8080/"
        },
        "id": "EQuyqg8d_5kz",
        "outputId": "f01b407e-e3ab-4e1a-b963-7e79c3d052a0"
      },
      "execution_count": 18,
      "outputs": [
        {
          "output_type": "stream",
          "name": "stdout",
          "text": [
            "La solución encontrada es:  ['s', 'c', 'g1']\n",
            "Información sobre la búsqueda: \n",
            "Total length of solution in nodes: 3\n",
            "Total length of solution in actions: 2\n",
            "Total cost of solution: 25\n",
            "max fringe size: 4\n",
            "visited nodes: 7\n",
            "iterations: 7\n",
            "\n"
          ]
        }
      ]
    },
    {
      "cell_type": "code",
      "source": [
        "problem = StaticGraphSearch(problem_and_costs_graph,initial,goals)\n",
        "used_viewer=BaseViewer()\n",
        "result = depth_first(problem, graph_search=True,viewer=used_viewer)\n",
        "resultado_experimento(problem,result,used_viewer)"
      ],
      "metadata": {
        "id": "dn-xstZugJKu",
        "outputId": "9ed75fc7-edf8-45f6-e6a7-3153f252762f",
        "colab": {
          "base_uri": "https://localhost:8080/"
        }
      },
      "execution_count": 19,
      "outputs": [
        {
          "output_type": "stream",
          "name": "stdout",
          "text": [
            "La solución encontrada es:  ['s', 'c', 'g1']\n",
            "Información sobre la búsqueda: \n",
            "Total length of solution in nodes: 3\n",
            "Total length of solution in actions: 2\n",
            "Total cost of solution: 25\n",
            "max fringe size: 3\n",
            "visited nodes: 3\n",
            "iterations: 3\n",
            "\n"
          ]
        }
      ]
    },
    {
      "cell_type": "code",
      "source": [
        "problem = StaticGraphSearch(problem_and_costs_graph,initial,goals,reverse_order=True)\n",
        "used_viewer=BaseViewer()\n",
        "result = depth_first(problem, graph_search=True,viewer=used_viewer)\n",
        "resultado_experimento(problem,result,used_viewer)"
      ],
      "metadata": {
        "colab": {
          "base_uri": "https://localhost:8080/"
        },
        "id": "hBduw_zPduMz",
        "outputId": "757ad1ed-9094-468b-c7e1-53784bc40413"
      },
      "execution_count": 20,
      "outputs": [
        {
          "output_type": "stream",
          "name": "stdout",
          "text": [
            "La solución encontrada es:  ['s', 'b', 'e', 'd', 'g2']\n",
            "Información sobre la búsqueda: \n",
            "Total length of solution in nodes: 5\n",
            "Total length of solution in actions: 4\n",
            "Total cost of solution: 22\n",
            "max fringe size: 3\n",
            "visited nodes: 6\n",
            "iterations: 6\n",
            "\n"
          ]
        }
      ]
    }
  ],
  "metadata": {
    "colab": {
      "provenance": []
    },
    "kernelspec": {
      "display_name": "Python 3 (ipykernel)",
      "language": "python",
      "name": "python3"
    },
    "language_info": {
      "codemirror_mode": {
        "name": "ipython",
        "version": 3
      },
      "file_extension": ".py",
      "mimetype": "text/x-python",
      "name": "python",
      "nbconvert_exporter": "python",
      "pygments_lexer": "ipython3",
      "version": "3.8.12"
    }
  },
  "nbformat": 4,
  "nbformat_minor": 0
}